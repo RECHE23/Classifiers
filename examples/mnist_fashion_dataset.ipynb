{
 "cells": [
  {
   "cell_type": "markdown",
   "source": [
    "# Example on the MNIST Fashion Dataset"
   ],
   "metadata": {
    "collapsed": false
   },
   "id": "cd9c8d8e453c37d9"
  },
  {
   "cell_type": "markdown",
   "source": [
    "### 1. Import of the modules and the dataset"
   ],
   "metadata": {
    "collapsed": false
   },
   "id": "8cb6036dc8e84249"
  },
  {
   "cell_type": "code",
   "execution_count": 1,
   "id": "initial_id",
   "metadata": {
    "collapsed": true,
    "ExecuteTime": {
     "end_time": "2023-09-01T03:29:45.835141Z",
     "start_time": "2023-09-01T03:29:41.210677Z"
    }
   },
   "outputs": [
    {
     "name": "stderr",
     "output_type": "stream",
     "text": [
      "2023-08-31 23:29:42.973116: I tensorflow/core/platform/cpu_feature_guard.cc:182] This TensorFlow binary is optimized to use available CPU instructions in performance-critical operations.\n",
      "To enable the following instructions: AVX2 FMA, in other operations, rebuild TensorFlow with the appropriate compiler flags.\n"
     ]
    }
   ],
   "source": [
    "from neural_network import *\n",
    "from keras.datasets import fashion_mnist"
   ]
  },
  {
   "cell_type": "markdown",
   "source": [
    "### 2. Load the MNIST dataset"
   ],
   "metadata": {
    "collapsed": false
   },
   "id": "9a05c2f724918f08"
  },
  {
   "cell_type": "code",
   "execution_count": 2,
   "outputs": [
    {
     "data": {
      "text/plain": "((60000, 28, 28), (60000,), (10000, 28, 28), (10000,))"
     },
     "execution_count": 2,
     "metadata": {},
     "output_type": "execute_result"
    }
   ],
   "source": [
    "(X_train, y_train), (X_test, y_test) = fashion_mnist.load_data()\n",
    "X_train.shape, y_train.shape, X_test.shape, y_test.shape"
   ],
   "metadata": {
    "collapsed": false,
    "ExecuteTime": {
     "end_time": "2023-09-01T03:29:46.264560Z",
     "start_time": "2023-09-01T03:29:45.838440Z"
    }
   },
   "id": "15ab796aa86afacb"
  },
  {
   "cell_type": "markdown",
   "source": [
    "### 3. Build the neural network"
   ],
   "metadata": {
    "collapsed": false
   },
   "id": "d642ae40cd40f983"
  },
  {
   "cell_type": "code",
   "execution_count": 3,
   "outputs": [
    {
     "name": "stdout",
     "output_type": "stream",
     "text": [
      "NeuralNetwork:\n",
      " (0) Normalization(norm=255.0, dtype=float32)\n",
      " (1) Reshape(output_shape=(1, 28, 28))\n",
      " (2) Conv2d(in_channels=1, out_channels=6, kernel_size=(5, 5), stride=(1, 1), padding=(2, 2), optimizer=Adam(lr=0.001, lr_decay=0.0, beta1=0.9, beta2=0.999, eps=1e-08), initialization=xavier)\n",
      " (3) BatchNorm2d(6, eps=1e-05, momentum=0.1)\n",
      " (4) Tanh()\n",
      " (5) AvgPool2d(kernel_size=(2, 2), stride=(2, 2))\n",
      " (6) Conv2d(in_channels=6, out_channels=16, kernel_size=(5, 5), stride=(1, 1), padding=(0, 0), optimizer=Adam(lr=0.001, lr_decay=0.0, beta1=0.9, beta2=0.999, eps=1e-08), initialization=xavier)\n",
      " (7) BatchNorm2d(16, eps=1e-05, momentum=0.1)\n",
      " (8) Tanh()\n",
      " (9) AvgPool2d(kernel_size=(2, 2), stride=(2, 2))\n",
      " (10) Flatten()\n",
      " (11) Linear(in_features=400, out_features=120, optimizer=Adam(lr=0.001, lr_decay=0.0, beta1=0.9, beta2=0.999, eps=1e-08), initialization=xavier)\n",
      " (12) Tanh()\n",
      " (13) Linear(in_features=120, out_features=84, optimizer=Adam(lr=0.001, lr_decay=0.0, beta1=0.9, beta2=0.999, eps=1e-08), initialization=xavier)\n",
      " (14) Tanh()\n",
      " (15) Linear(in_features=84, out_features=10, optimizer=Adam(lr=0.001, lr_decay=0.0, beta1=0.9, beta2=0.999, eps=1e-08), initialization=xavier)\n",
      " (16) SoftmaxCategoricalCrossEntropy()\n",
      "Learnable parameters count: 61795\n",
      "\n"
     ]
    }
   ],
   "source": [
    "net = NeuralNetwork(\n",
    "    Normalization(samples=X_train),\n",
    "    Reshape(output_shape=(1, 28, 28)),\n",
    "    Conv2d(in_channels=1, out_channels=6, kernel_size=5, stride=1, padding=2),\n",
    "    BatchNorm2d(6),\n",
    "    Tanh(),\n",
    "    AvgPool2d(kernel_size=(2, 2), stride=(2, 2)),\n",
    "    Conv2d(in_channels=6, out_channels=16, kernel_size=5, stride=1, padding=0),\n",
    "    BatchNorm2d(16),\n",
    "    Tanh(),\n",
    "    AvgPool2d(kernel_size=(2, 2), stride=(2, 2)),\n",
    "    Flatten(),\n",
    "    Linear(in_features=400, out_features=120),\n",
    "    Tanh(),\n",
    "    Linear(in_features=120, out_features=84),\n",
    "    Tanh(),\n",
    "    Linear(in_features=84, out_features=10),\n",
    "    SoftmaxCategoricalCrossEntropy()\n",
    ")\n",
    "print(net)"
   ],
   "metadata": {
    "collapsed": false,
    "ExecuteTime": {
     "end_time": "2023-09-01T03:29:46.443753Z",
     "start_time": "2023-09-01T03:29:46.260983Z"
    }
   },
   "id": "e712edb610cd1151"
  },
  {
   "cell_type": "markdown",
   "source": [
    "### 4. Choose the number of samples to train on"
   ],
   "metadata": {
    "collapsed": false
   },
   "id": "eb35aaddf542a6c2"
  },
  {
   "cell_type": "code",
   "execution_count": 4,
   "outputs": [
    {
     "data": {
      "text/plain": "((5000, 28, 28), (5000,))"
     },
     "execution_count": 4,
     "metadata": {},
     "output_type": "execute_result"
    }
   ],
   "source": [
    "# Select N samples to train on:\n",
    "N = 5000\n",
    "X_train, y_train = X_train[:N], y_train[:N]\n",
    "X_train.shape, y_train.shape"
   ],
   "metadata": {
    "collapsed": false,
    "ExecuteTime": {
     "end_time": "2023-09-01T03:29:46.450845Z",
     "start_time": "2023-09-01T03:29:46.442098Z"
    }
   },
   "id": "b9d3a89c46660dba"
  },
  {
   "cell_type": "markdown",
   "source": [
    "### 5. Train the neural network"
   ],
   "metadata": {
    "collapsed": false
   },
   "id": "fc68e42e7abe3e71"
  },
  {
   "cell_type": "code",
   "execution_count": 5,
   "outputs": [
    {
     "name": "stdout",
     "output_type": "stream",
     "text": [
      "Training on 5000 samples:\n",
      "Epoch    1 of 5    \t Average Error = 0.843117 \t Average Accuracy = 70.46%                                   \n",
      "Epoch    2 of 5    \t Average Error = 0.519771 \t Average Accuracy = 81.40%                                   \n",
      "Epoch    3 of 5    \t Average Error = 0.447029 \t Average Accuracy = 84.06%                                   \n",
      "Epoch    4 of 5    \t Average Error = 0.403950 \t Average Accuracy = 85.74%                                   \n",
      "Epoch    5 of 5    \t Average Error = 0.362858 \t Average Accuracy = 87.34%                                   \n",
      "Training time : 00 hours, 01 minutes, 06 seconds\n"
     ]
    }
   ],
   "source": [
    "net.fit(X_train, y_train, epochs=5, batch_size=64, shuffle=True)"
   ],
   "metadata": {
    "collapsed": false,
    "ExecuteTime": {
     "end_time": "2023-09-01T03:30:53.275899Z",
     "start_time": "2023-09-01T03:29:46.454441Z"
    }
   },
   "id": "dc23a3d83ac5c972"
  },
  {
   "cell_type": "markdown",
   "source": [
    "### 6. Make predictions on the test samples"
   ],
   "metadata": {
    "collapsed": false
   },
   "id": "101f1bf27a978a7e"
  },
  {
   "cell_type": "code",
   "execution_count": 6,
   "outputs": [
    {
     "data": {
      "text/plain": "(array([9, 2, 1, 1, 6, 1, 4, 6, 7, 7]),\n array([9, 2, 1, 1, 6, 1, 4, 6, 5, 7], dtype=uint8))"
     },
     "execution_count": 6,
     "metadata": {},
     "output_type": "execute_result"
    }
   ],
   "source": [
    "# Prediction on the 10,000 test samples:\n",
    "y_pred = net.predict(X_test, to=\"labels\")\n",
    "# Shows the first 10 predicted labels vs the true labels:\n",
    "y_pred[:10], y_test[:10]"
   ],
   "metadata": {
    "collapsed": false,
    "ExecuteTime": {
     "end_time": "2023-09-01T03:31:04.442350Z",
     "start_time": "2023-09-01T03:30:53.280526Z"
    }
   },
   "id": "3d6640d0516531a"
  },
  {
   "cell_type": "markdown",
   "source": [
    "### 7. Evaluate the accuracy score"
   ],
   "metadata": {
    "collapsed": false
   },
   "id": "6eff8c9d44f785b6"
  },
  {
   "cell_type": "code",
   "execution_count": 7,
   "outputs": [
    {
     "name": "stdout",
     "output_type": "stream",
     "text": [
      "Accuracy score on the test set: 83.87%\n"
     ]
    }
   ],
   "source": [
    "print(f\"Accuracy score on the test set: {accuracy_score(y_test, y_pred):.2%}\")"
   ],
   "metadata": {
    "collapsed": false,
    "ExecuteTime": {
     "end_time": "2023-09-01T03:31:04.442677Z",
     "start_time": "2023-09-01T03:31:04.437786Z"
    }
   },
   "id": "24637a13137d78f8"
  },
  {
   "cell_type": "markdown",
   "source": [
    "### 8. Build a confusion matrix"
   ],
   "metadata": {
    "collapsed": false
   },
   "id": "f0bca4a1f0dbc0a8"
  },
  {
   "cell_type": "code",
   "execution_count": 8,
   "outputs": [
    {
     "name": "stdout",
     "output_type": "stream",
     "text": [
      "Confusion matrix:\n",
      "[[821   8  14  28   3   2 100   0  24   0]\n",
      " [  3 964   3  21   4   0   3   0   2   0]\n",
      " [ 15   6 707  11 145   0  97   1  18   0]\n",
      " [ 32  21   7 860  30   0  43   0   7   0]\n",
      " [  1   3  85  39 783   1  78   0  10   0]\n",
      " [  1   0   0   1   0 922   0  47   4  25]\n",
      " [157   2 107  31 138   1 526   0  38   0]\n",
      " [  0   0   0   0   0  37   0 918   1  44]\n",
      " [  1   2   2   7   2   4  15   7 958   2]\n",
      " [  0   0   0   0   0  24   1  46   1 928]]\n"
     ]
    }
   ],
   "source": [
    "cm = confusion_matrix(y_test, y_pred)\n",
    "print(f\"Confusion matrix:\\n{cm}\")"
   ],
   "metadata": {
    "collapsed": false,
    "ExecuteTime": {
     "end_time": "2023-09-01T03:31:04.457196Z",
     "start_time": "2023-09-01T03:31:04.444360Z"
    }
   },
   "id": "4cd0d12af75a53ae"
  },
  {
   "cell_type": "markdown",
   "source": [
    "### 9. Displays a classification report"
   ],
   "metadata": {
    "collapsed": false
   },
   "id": "cebd8d41593a705c"
  },
  {
   "cell_type": "code",
   "execution_count": 9,
   "outputs": [
    {
     "name": "stdout",
     "output_type": "stream",
     "text": [
      "┌───────────────────┬───────────┬───────────┬───────────┬───────────┐\n",
      "│       Class       │ Precision │   Recall  │  F1-Score │  Support  │\n",
      "├───────────────────┼───────────┼───────────┼───────────┼───────────┤\n",
      "│    T-shirt/top    │  79.63%   │  82.10%   │  80.85%   │   1000    │\n",
      "│      Trouser      │  95.83%   │  96.40%   │  96.11%   │   1000    │\n",
      "│     Pullover      │  76.43%   │  70.70%   │  73.45%   │   1000    │\n",
      "│       Dress       │  86.17%   │  86.00%   │  86.09%   │   1000    │\n",
      "│       Coat        │  70.86%   │  78.30%   │  74.39%   │   1000    │\n",
      "│      Sandal       │  93.04%   │  92.20%   │  92.62%   │   1000    │\n",
      "│       Shirt       │  60.95%   │  52.60%   │  56.47%   │   1000    │\n",
      "│      Sneaker      │  90.09%   │  91.80%   │  90.94%   │   1000    │\n",
      "│        Bag        │  90.12%   │  95.80%   │  92.87%   │   1000    │\n",
      "│    Ankle boot     │  92.89%   │  92.80%   │  92.85%   │   1000    │\n",
      "└───────────────────┴───────────┴───────────┴───────────┴───────────┘\n"
     ]
    }
   ],
   "source": [
    "class_labels = [\"T-shirt/top\", \"Trouser\", \"Pullover\", \"Dress\", \"Coat\", \"Sandal\", \"Shirt\", \"Sneaker\", \"Bag\", \"Ankle boot\"]\n",
    "print(classification_report(cm, class_labels=class_labels, formatted=True))"
   ],
   "metadata": {
    "collapsed": false,
    "ExecuteTime": {
     "end_time": "2023-09-01T03:31:04.490977Z",
     "start_time": "2023-09-01T03:31:04.455266Z"
    }
   },
   "id": "ceb95aa03caa8c2d"
  }
 ],
 "metadata": {
  "kernelspec": {
   "display_name": "Python 3",
   "language": "python",
   "name": "python3"
  },
  "language_info": {
   "codemirror_mode": {
    "name": "ipython",
    "version": 2
   },
   "file_extension": ".py",
   "mimetype": "text/x-python",
   "name": "python",
   "nbconvert_exporter": "python",
   "pygments_lexer": "ipython2",
   "version": "2.7.6"
  }
 },
 "nbformat": 4,
 "nbformat_minor": 5
}
