{
 "cells": [
  {
   "cell_type": "markdown",
   "source": [
    "# Example on the MNIST Digits Dataset"
   ],
   "metadata": {
    "collapsed": false
   },
   "id": "cd9c8d8e453c37d9"
  },
  {
   "cell_type": "markdown",
   "source": [
    "### 1. Import of the modules and the dataset"
   ],
   "metadata": {
    "collapsed": false
   },
   "id": "8cb6036dc8e84249"
  },
  {
   "cell_type": "code",
   "execution_count": 1,
   "id": "initial_id",
   "metadata": {
    "collapsed": true,
    "ExecuteTime": {
     "end_time": "2023-09-08T16:21:07.914022Z",
     "start_time": "2023-09-08T16:21:04.219908Z"
    }
   },
   "outputs": [
    {
     "name": "stderr",
     "output_type": "stream",
     "text": [
      "2023-09-08 12:21:06.068275: I tensorflow/core/platform/cpu_feature_guard.cc:182] This TensorFlow binary is optimized to use available CPU instructions in performance-critical operations.\n",
      "To enable the following instructions: AVX2 FMA, in other operations, rebuild TensorFlow with the appropriate compiler flags.\n"
     ]
    }
   ],
   "source": [
    "from neural_network import *\n",
    "from utils import *\n",
    "from keras.datasets import mnist"
   ]
  },
  {
   "cell_type": "markdown",
   "source": [
    "### 2. Load the MNIST dataset"
   ],
   "metadata": {
    "collapsed": false
   },
   "id": "9a05c2f724918f08"
  },
  {
   "cell_type": "code",
   "execution_count": 2,
   "outputs": [
    {
     "data": {
      "text/plain": "((60000, 28, 28), (60000,), (10000, 28, 28), (10000,))"
     },
     "execution_count": 2,
     "metadata": {},
     "output_type": "execute_result"
    }
   ],
   "source": [
    "(X_train, y_train), (X_test, y_test) = mnist.load_data()\n",
    "X_train.shape, y_train.shape, X_test.shape, y_test.shape"
   ],
   "metadata": {
    "collapsed": false,
    "ExecuteTime": {
     "end_time": "2023-09-08T16:21:08.234742Z",
     "start_time": "2023-09-08T16:21:07.910462Z"
    }
   },
   "id": "15ab796aa86afacb"
  },
  {
   "cell_type": "markdown",
   "source": [
    "### 3. Build the neural network"
   ],
   "metadata": {
    "collapsed": false
   },
   "id": "d642ae40cd40f983"
  },
  {
   "cell_type": "code",
   "execution_count": 3,
   "outputs": [
    {
     "name": "stdout",
     "output_type": "stream",
     "text": [
      "NeuralNetwork:\n",
      " (0) Normalization(norm=255.0, dtype=float32)\n",
      " (1) Reshape(output_shape=(1, 28, 28))\n",
      " (2) Conv2d(in_channels=1, out_channels=6, kernel_size=(5, 5), stride=(1, 1), padding=(2, 2), optimizer=Adam(lr=0.001, lr_decay=0.0, beta1=0.9, beta2=0.999, eps=1e-08), initialization=xavier)\n",
      " (3) BatchNorm2d(6, eps=1e-05, momentum=0.1)\n",
      " (4) Tanh()\n",
      " (5) AvgPool2d(kernel_size=(2, 2), stride=(2, 2))\n",
      " (6) Conv2d(in_channels=6, out_channels=16, kernel_size=(5, 5), stride=(1, 1), padding=(0, 0), optimizer=Adam(lr=0.001, lr_decay=0.0, beta1=0.9, beta2=0.999, eps=1e-08), initialization=xavier)\n",
      " (7) BatchNorm2d(16, eps=1e-05, momentum=0.1)\n",
      " (8) Tanh()\n",
      " (9) AvgPool2d(kernel_size=(2, 2), stride=(2, 2))\n",
      " (10) Flatten()\n",
      " (11) Linear(in_features=400, out_features=120, optimizer=Adam(lr=0.001, lr_decay=0.0, beta1=0.9, beta2=0.999, eps=1e-08), initialization=xavier)\n",
      " (12) Tanh()\n",
      " (13) Linear(in_features=120, out_features=84, optimizer=Adam(lr=0.001, lr_decay=0.0, beta1=0.9, beta2=0.999, eps=1e-08), initialization=xavier)\n",
      " (14) Tanh()\n",
      " (15) Linear(in_features=84, out_features=10, optimizer=Adam(lr=0.001, lr_decay=0.0, beta1=0.9, beta2=0.999, eps=1e-08), initialization=xavier)\n",
      " (16) SoftmaxCategoricalCrossEntropy()\n",
      "Learnable parameters count: 61795\n",
      "\n"
     ]
    }
   ],
   "source": [
    "net = NeuralNetwork(\n",
    "    Normalization(samples=X_train),\n",
    "    Reshape(output_shape=(1, 28, 28)),\n",
    "    Conv2d(in_channels=1, out_channels=6, kernel_size=5, stride=1, padding=2),\n",
    "    BatchNorm2d(6),\n",
    "    Tanh(),\n",
    "    AvgPool2d(kernel_size=(2, 2), stride=(2, 2)),\n",
    "    Conv2d(in_channels=6, out_channels=16, kernel_size=5, stride=1, padding=0),\n",
    "    BatchNorm2d(16),\n",
    "    Tanh(),\n",
    "    AvgPool2d(kernel_size=(2, 2), stride=(2, 2)),\n",
    "    Flatten(),\n",
    "    Linear(in_features=400, out_features=120),\n",
    "    Tanh(),\n",
    "    Linear(in_features=120, out_features=84),\n",
    "    Tanh(),\n",
    "    Linear(in_features=84, out_features=10),\n",
    "    SoftmaxCategoricalCrossEntropy()\n",
    ")\n",
    "print(net)"
   ],
   "metadata": {
    "collapsed": false,
    "ExecuteTime": {
     "end_time": "2023-09-08T16:21:08.358142Z",
     "start_time": "2023-09-08T16:21:08.233996Z"
    }
   },
   "id": "e712edb610cd1151"
  },
  {
   "cell_type": "markdown",
   "source": [
    "### 4. Choose the number of samples to train on"
   ],
   "metadata": {
    "collapsed": false
   },
   "id": "eb35aaddf542a6c2"
  },
  {
   "cell_type": "code",
   "execution_count": 4,
   "outputs": [
    {
     "data": {
      "text/plain": "((3000, 28, 28), (3000,))"
     },
     "execution_count": 4,
     "metadata": {},
     "output_type": "execute_result"
    }
   ],
   "source": [
    "# Select N samples to train on:\n",
    "N = 3000\n",
    "X_train, y_train = X_train[:N], y_train[:N]\n",
    "X_train.shape, y_train.shape"
   ],
   "metadata": {
    "collapsed": false,
    "ExecuteTime": {
     "end_time": "2023-09-08T16:21:08.367944Z",
     "start_time": "2023-09-08T16:21:08.356775Z"
    }
   },
   "id": "b9d3a89c46660dba"
  },
  {
   "cell_type": "markdown",
   "source": [
    "### 5. Train the neural network"
   ],
   "metadata": {
    "collapsed": false
   },
   "id": "fc68e42e7abe3e71"
  },
  {
   "cell_type": "code",
   "execution_count": 5,
   "outputs": [
    {
     "name": "stdout",
     "output_type": "stream",
     "text": [
      "Training on 3000 samples:\n",
      "Epoch    1 of 5    \t Average Error = 0.723556 \t Average Accuracy = 80.20%                                   \n",
      "Epoch    2 of 5    \t Average Error = 0.288318 \t Average Accuracy = 91.87%                                   \n",
      "Epoch    3 of 5    \t Average Error = 0.203518 \t Average Accuracy = 94.63%                                   \n",
      "Epoch    4 of 5    \t Average Error = 0.146627 \t Average Accuracy = 96.33%                                   \n",
      "Epoch    5 of 5    \t Average Error = 0.116919 \t Average Accuracy = 97.03%                                   \n",
      "Training time : 00 hours, 00 minutes, 28 seconds\n"
     ]
    }
   ],
   "source": [
    "net.fit(X_train, y_train, epochs=5, batch_size=64, shuffle=True)"
   ],
   "metadata": {
    "collapsed": false,
    "ExecuteTime": {
     "end_time": "2023-09-08T16:21:36.993619Z",
     "start_time": "2023-09-08T16:21:08.365470Z"
    }
   },
   "id": "dc23a3d83ac5c972"
  },
  {
   "cell_type": "markdown",
   "source": [
    "### 6. Make predictions on the test samples"
   ],
   "metadata": {
    "collapsed": false
   },
   "id": "101f1bf27a978a7e"
  },
  {
   "cell_type": "code",
   "execution_count": 6,
   "outputs": [
    {
     "data": {
      "text/plain": "(array([7, 2, 1, 0, 4, 1, 4, 9, 6, 9]),\n array([7, 2, 1, 0, 4, 1, 4, 9, 5, 9], dtype=uint8))"
     },
     "execution_count": 6,
     "metadata": {},
     "output_type": "execute_result"
    }
   ],
   "source": [
    "# Prediction on the 10,000 test samples:\n",
    "y_pred = net.predict(X_test, to=\"labels\")\n",
    "# Shows the first 10 predicted labels vs the true labels:\n",
    "y_pred[:10], y_test[:10]"
   ],
   "metadata": {
    "collapsed": false,
    "ExecuteTime": {
     "end_time": "2023-09-08T16:21:41.845901Z",
     "start_time": "2023-09-08T16:21:36.989759Z"
    }
   },
   "id": "3d6640d0516531a"
  },
  {
   "cell_type": "markdown",
   "source": [
    "### 7. Evaluate the accuracy score"
   ],
   "metadata": {
    "collapsed": false
   },
   "id": "6eff8c9d44f785b6"
  },
  {
   "cell_type": "code",
   "execution_count": 7,
   "outputs": [
    {
     "name": "stdout",
     "output_type": "stream",
     "text": [
      "Accuracy score on the test set: 95.21%\n"
     ]
    }
   ],
   "source": [
    "print(f\"Accuracy score on the test set: {accuracy_score(y_test, y_pred):.2%}\")"
   ],
   "metadata": {
    "collapsed": false,
    "ExecuteTime": {
     "end_time": "2023-09-08T16:21:41.854423Z",
     "start_time": "2023-09-08T16:21:41.842046Z"
    }
   },
   "id": "24637a13137d78f8"
  },
  {
   "cell_type": "markdown",
   "source": [
    "### 8. Build a confusion matrix"
   ],
   "metadata": {
    "collapsed": false
   },
   "id": "f0bca4a1f0dbc0a8"
  },
  {
   "cell_type": "code",
   "execution_count": 8,
   "outputs": [
    {
     "name": "stdout",
     "output_type": "stream",
     "text": [
      "Confusion matrix:\n",
      "[[ 960    1    1    0    1    0   10    3    4    0]\n",
      " [   0 1123    3    3    0    1    2    3    0    0]\n",
      " [   7    2  960    5   12    0    4   31    9    2]\n",
      " [   5    0   17  949    0   11    0   16    5    7]\n",
      " [   1    1    0    0  963    0    1    3    0   13]\n",
      " [  10    1    0   16    0  835    6    7    9    8]\n",
      " [  10    6    3    0   15    8  913    0    3    0]\n",
      " [   2    2   22    3    1    0    0  986    2   10]\n",
      " [   7    7    6   13    8    3    4   19  896   11]\n",
      " [  11    5    1    8   21    0    0   27    0  936]]\n"
     ]
    }
   ],
   "source": [
    "cm = confusion_matrix(y_test, y_pred)\n",
    "print(f\"Confusion matrix:\\n{cm}\")"
   ],
   "metadata": {
    "collapsed": false,
    "ExecuteTime": {
     "end_time": "2023-09-08T16:21:41.862636Z",
     "start_time": "2023-09-08T16:21:41.848080Z"
    }
   },
   "id": "4cd0d12af75a53ae"
  },
  {
   "cell_type": "markdown",
   "source": [
    "### 9. Displays a classification report"
   ],
   "metadata": {
    "collapsed": false
   },
   "id": "cebd8d41593a705c"
  },
  {
   "cell_type": "code",
   "execution_count": 11,
   "outputs": [
    {
     "name": "stdout",
     "output_type": "stream",
     "text": [
      "┌───────────────────┬───────────┬───────────┬───────────┬───────────┐\n",
      "│       Class       │ Precision │   Recall  │  F1-Score │  Support  │\n",
      "├───────────────────┼───────────┼───────────┼───────────┼───────────┤\n",
      "│         0         │  94.77%   │  97.96%   │  96.34%   │    980    │\n",
      "│         1         │  97.82%   │  98.94%   │  98.38%   │   1135    │\n",
      "│         2         │  94.77%   │  93.02%   │  93.89%   │   1032    │\n",
      "│         3         │  95.19%   │  93.96%   │  94.57%   │   1010    │\n",
      "│         4         │  94.32%   │  98.07%   │  96.16%   │    982    │\n",
      "│         5         │  97.32%   │  93.61%   │  95.43%   │    892    │\n",
      "│         6         │  97.13%   │  95.30%   │  96.21%   │    958    │\n",
      "│         7         │  90.05%   │  95.91%   │  92.89%   │   1028    │\n",
      "│         8         │  96.55%   │  91.99%   │  94.22%   │    974    │\n",
      "│         9         │  94.83%   │  92.77%   │  93.79%   │   1009    │\n",
      "└───────────────────┴───────────┴───────────┴───────────┴───────────┘\n"
     ]
    }
   ],
   "source": [
    "print(classification_report(cm, formatted=True))"
   ],
   "metadata": {
    "collapsed": false,
    "ExecuteTime": {
     "end_time": "2023-09-08T16:22:33.739263Z",
     "start_time": "2023-09-08T16:22:33.730387Z"
    }
   },
   "id": "ceb95aa03caa8c2d"
  },
  {
   "cell_type": "markdown",
   "source": [
    "### 9. Displays some of the misclassified samples"
   ],
   "metadata": {
    "collapsed": false
   },
   "id": "8a55c9347cfa0968"
  },
  {
   "cell_type": "code",
   "execution_count": 10,
   "outputs": [
    {
     "data": {
      "text/plain": "<Figure size 1500x800 with 25 Axes>",
      "image/png": "[encoded data removed]"
     },
     "metadata": {},
     "output_type": "display_data"
    }
   ],
   "source": [
    "display_misclassified(X_test, y_test, y_pred)"
   ],
   "metadata": {
    "collapsed": false,
    "ExecuteTime": {
     "end_time": "2023-09-08T16:21:42.575600Z",
     "start_time": "2023-09-08T16:21:41.867242Z"
    }
   },
   "id": "30485b03ef187c37"
  }
 ],
 "metadata": {
  "kernelspec": {
   "display_name": "Python 3",
   "language": "python",
   "name": "python3"
  },
  "language_info": {
   "codemirror_mode": {
    "name": "ipython",
    "version": 2
   },
   "file_extension": ".py",
   "mimetype": "text/x-python",
   "name": "python",
   "nbconvert_exporter": "python",
   "pygments_lexer": "ipython2",
   "version": "2.7.6"
  }
 },
 "nbformat": 4,
 "nbformat_minor": 5
}
